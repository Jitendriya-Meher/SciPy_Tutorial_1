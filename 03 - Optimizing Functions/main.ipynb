{
 "cells": [
  {
   "cell_type": "markdown",
   "metadata": {},
   "source": [
    " OPtimizers in SCipy: they are a set of procedures defined in scipy that either find the minimum value of a function or a root of an equation."
   ]
  },
  {
   "cell_type": "markdown",
   "metadata": {},
   "source": [
    "optimizing function: all the algorithms which helps in minimizing the data."
   ]
  },
  {
   "cell_type": "markdown",
   "metadata": {},
   "source": [
    "Root of an equation: x + cos(x), we will solve it via optimize.root function. "
   ]
  },
  {
   "cell_type": "markdown",
   "metadata": {},
   "source": [
    "this function takes 2 arguments: \"fun\" and x0"
   ]
  },
  {
   "cell_type": "markdown",
   "metadata": {},
   "source": [
    "example: here we will find the root of the equation x + cos(x) :"
   ]
  },
  {
   "cell_type": "code",
   "execution_count": 14,
   "metadata": {},
   "outputs": [],
   "source": [
    "from scipy.optimize import root,minimize\n",
    "from math import cos"
   ]
  },
  {
   "cell_type": "code",
   "execution_count": 11,
   "metadata": {},
   "outputs": [],
   "source": [
    "def eqn(x):\n",
    "    return x + cos(x)"
   ]
  },
  {
   "cell_type": "code",
   "execution_count": 12,
   "metadata": {},
   "outputs": [
    {
     "name": "stdout",
     "output_type": "stream",
     "text": [
      " message: The solution converged.\n",
      " success: True\n",
      "  status: 1\n",
      "     fun: [ 0.000e+00]\n",
      "       x: [-7.391e-01]\n",
      "  method: hybr\n",
      "    nfev: 9\n",
      "    fjac: [[-1.000e+00]]\n",
      "       r: [-1.674e+00]\n",
      "     qtf: [-2.668e-13]\n"
     ]
    },
    {
     "name": "stderr",
     "output_type": "stream",
     "text": [
      "C:\\Users\\user\\AppData\\Local\\Temp\\ipykernel_9492\\2321555123.py:2: DeprecationWarning: Conversion of an array with ndim > 0 to a scalar is deprecated, and will error in future. Ensure you extract a single element from your array before performing this operation. (Deprecated NumPy 1.25.)\n",
      "  return x + cos(x)\n"
     ]
    }
   ],
   "source": [
    "myroot = root(eqn, 0)\n",
    "print(myroot)"
   ]
  },
  {
   "cell_type": "code",
   "execution_count": 13,
   "metadata": {},
   "outputs": [
    {
     "name": "stdout",
     "output_type": "stream",
     "text": [
      "[-0.73908513]\n"
     ]
    }
   ],
   "source": [
    "print(myroot.x)"
   ]
  },
  {
   "cell_type": "markdown",
   "metadata": {},
   "source": [
    "Minimizing the Function or data:"
   ]
  },
  {
   "cell_type": "markdown",
   "metadata": {},
   "source": [
    "high points are called maxima and low points are called minima."
   ]
  },
  {
   "cell_type": "markdown",
   "metadata": {},
   "source": [
    "finding the Minima:"
   ]
  },
  {
   "cell_type": "markdown",
   "metadata": {},
   "source": [
    "we use scipy.optimize.minimize(). it uses 3 arguments: \"fun\", x0 and method:it also has some legal values: \"CG\", \"BFGS\", \"NEWTON-CG\", \"L-BFGS-B\", \"TNC\", \"COBYLA\", \"SLSQP\"."
   ]
  },
  {
   "cell_type": "markdown",
   "metadata": {},
   "source": [
    "callback: functions called after each iteration of optimizations."
   ]
  },
  {
   "cell_type": "markdown",
   "metadata": {},
   "source": [
    " Example of the above: in which we will minimize the function: x^2 + x + 2 with BFGS:"
   ]
  },
  {
   "cell_type": "code",
   "execution_count": 15,
   "metadata": {},
   "outputs": [
    {
     "name": "stdout",
     "output_type": "stream",
     "text": [
      "  message: Optimization terminated successfully.\n",
      "  success: True\n",
      "   status: 0\n",
      "      fun: 1.75\n",
      "        x: [-5.000e-01]\n",
      "      nit: 2\n",
      "      jac: [ 0.000e+00]\n",
      " hess_inv: [[ 5.000e-01]]\n",
      "     nfev: 8\n",
      "     njev: 4\n"
     ]
    }
   ],
   "source": [
    "def eqn(x):\n",
    "    return x**2 + x + 2\n",
    "\n",
    "mymin = minimize(eqn, 0, method='BFGS')\n",
    "print(mymin)"
   ]
  },
  {
   "cell_type": "code",
   "execution_count": 16,
   "metadata": {},
   "outputs": [
    {
     "name": "stdout",
     "output_type": "stream",
     "text": [
      "[-0.50000001]\n"
     ]
    }
   ],
   "source": [
    "print(mymin.x)"
   ]
  }
 ],
 "metadata": {
  "kernelspec": {
   "display_name": "Python 3",
   "language": "python",
   "name": "python3"
  },
  "language_info": {
   "codemirror_mode": {
    "name": "ipython",
    "version": 3
   },
   "file_extension": ".py",
   "mimetype": "text/x-python",
   "name": "python",
   "nbconvert_exporter": "python",
   "pygments_lexer": "ipython3",
   "version": "3.11.0"
  }
 },
 "nbformat": 4,
 "nbformat_minor": 2
}
