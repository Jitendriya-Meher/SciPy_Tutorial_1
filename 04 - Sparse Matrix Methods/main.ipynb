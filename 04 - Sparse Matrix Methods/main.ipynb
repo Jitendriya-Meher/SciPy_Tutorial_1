{
 "cells": [
  {
   "cell_type": "markdown",
   "metadata": {},
   "source": [
    " What is sparse data: Sparse data is the data that has mostly unused elements. like the elements that dont carry any info. [1,0,2,0,4,5,6,9,2,4]"
   ]
  },
  {
   "cell_type": "markdown",
   "metadata": {},
   "source": [
    "sparse data example [1,0,2,0,0,3,0,0,0,0,0,4]"
   ]
  },
  {
   "cell_type": "markdown",
   "metadata": {},
   "source": [
    "Dense Array: [2,5,6,8,9,7,1,2,3,6]"
   ]
  },
  {
   "cell_type": "markdown",
   "metadata": {},
   "source": [
    "How to work with Sparse Data.\n",
    "scipy has a module scipy.sparse function. there are 2 matrics in this sparse: CSC(Compressed sparse Column) and CSR(Commpresses Sparse Row)"
   ]
  },
  {
   "cell_type": "markdown",
   "metadata": {},
   "source": [
    "CSR Matrics: here we will create a CSR matrics from an array:"
   ]
  },
  {
   "cell_type": "code",
   "execution_count": 20,
   "metadata": {},
   "outputs": [],
   "source": [
    "import numpy as np\n",
    "from scipy.sparse import csr_matrix"
   ]
  },
  {
   "cell_type": "code",
   "execution_count": 21,
   "metadata": {},
   "outputs": [
    {
     "name": "stdout",
     "output_type": "stream",
     "text": [
      "  (0, 5)\t1\n",
      "  (0, 6)\t1\n",
      "  (0, 8)\t2\n"
     ]
    },
    {
     "data": {
      "text/plain": [
       "<1x9 sparse matrix of type '<class 'numpy.int32'>'\n",
       "\twith 3 stored elements in Compressed Sparse Row format>"
      ]
     },
     "execution_count": 21,
     "metadata": {},
     "output_type": "execute_result"
    }
   ],
   "source": [
    "arr = np.array([0,0,0,0,0,1,1,0,2])\n",
    "print(csr_matrix(arr))\n",
    "csr_matrix(arr)"
   ]
  },
  {
   "cell_type": "code",
   "execution_count": 22,
   "metadata": {},
   "outputs": [
    {
     "name": "stdout",
     "output_type": "stream",
     "text": [
      "  (1, 2)\t1\n",
      "  (2, 0)\t1\n",
      "  (2, 2)\t2\n"
     ]
    },
    {
     "data": {
      "text/plain": [
       "<3x3 sparse matrix of type '<class 'numpy.int32'>'\n",
       "\twith 3 stored elements in Compressed Sparse Row format>"
      ]
     },
     "execution_count": 22,
     "metadata": {},
     "output_type": "execute_result"
    }
   ],
   "source": [
    "arr = np.array([[0,0,0,],[0,0,1],[1,0,2]])\n",
    "print(csr_matrix(arr))\n",
    "csr_matrix(arr)"
   ]
  },
  {
   "cell_type": "code",
   "execution_count": 23,
   "metadata": {},
   "outputs": [
    {
     "data": {
      "text/plain": [
       "array([1, 1, 2])"
      ]
     },
     "execution_count": 23,
     "metadata": {},
     "output_type": "execute_result"
    }
   ],
   "source": [
    "csr_matrix(arr).data"
   ]
  },
  {
   "cell_type": "markdown",
   "metadata": {},
   "source": [
    "what if we want to count nonzeros, we can do this via count_nonzero() method."
   ]
  },
  {
   "cell_type": "code",
   "execution_count": 24,
   "metadata": {},
   "outputs": [
    {
     "data": {
      "text/plain": [
       "3"
      ]
     },
     "execution_count": 24,
     "metadata": {},
     "output_type": "execute_result"
    }
   ],
   "source": [
    "csr_matrix(arr).count_nonzero()"
   ]
  },
  {
   "cell_type": "markdown",
   "metadata": {},
   "source": [
    "For removing the zero elemements from the matrix we will use eliminate_zeros()."
   ]
  },
  {
   "cell_type": "code",
   "execution_count": 31,
   "metadata": {},
   "outputs": [
    {
     "name": "stdout",
     "output_type": "stream",
     "text": [
      "  (1, 2)\t1\n",
      "  (2, 0)\t1\n",
      "  (2, 2)\t2\n"
     ]
    },
    {
     "data": {
      "text/plain": [
       "<3x3 sparse matrix of type '<class 'numpy.int32'>'\n",
       "\twith 3 stored elements in Compressed Sparse Row format>"
      ]
     },
     "execution_count": 31,
     "metadata": {},
     "output_type": "execute_result"
    }
   ],
   "source": [
    "arr = np.array([[0,0,0,],[0,0,1],[1,0,2]])\n",
    "\n",
    "newArr = csr_matrix(arr)\n",
    "newArr.eliminate_zeros()\n",
    "\n",
    "print(newArr)\n",
    "newArr"
   ]
  },
  {
   "cell_type": "markdown",
   "metadata": {},
   "source": [
    "eliminating duplicate entries with the sum_duplicates() method:"
   ]
  },
  {
   "cell_type": "code",
   "execution_count": 34,
   "metadata": {},
   "outputs": [
    {
     "name": "stdout",
     "output_type": "stream",
     "text": [
      "  (1, 2)\t1\n",
      "  (2, 0)\t1\n",
      "  (2, 2)\t2\n",
      "  (3, 1)\t1\n"
     ]
    },
    {
     "data": {
      "text/plain": [
       "<4x3 sparse matrix of type '<class 'numpy.int32'>'\n",
       "\twith 4 stored elements in Compressed Sparse Row format>"
      ]
     },
     "execution_count": 34,
     "metadata": {},
     "output_type": "execute_result"
    }
   ],
   "source": [
    "arr = np.array([[0,0,0,],[0,0,1],[1,0,2],[0,1,0]])\n",
    "\n",
    "newArr = csr_matrix(arr)\n",
    "newArr.sum_duplicates()\n",
    "\n",
    "print(newArr)\n",
    "newArr"
   ]
  },
  {
   "cell_type": "markdown",
   "metadata": {},
   "source": [
    "here we will convert csr to csc with the tocsc():"
   ]
  },
  {
   "cell_type": "code",
   "execution_count": 36,
   "metadata": {},
   "outputs": [
    {
     "name": "stdout",
     "output_type": "stream",
     "text": [
      "  (2, 0)\t1\n",
      "  (1, 2)\t1\n",
      "  (2, 2)\t2\n"
     ]
    }
   ],
   "source": [
    "arr = np.array([[0,0,0],[0,0,1],[1,0,2]])\n",
    "\n",
    "newArr = csr_matrix(arr).tocsc()\n",
    "print(newArr)"
   ]
  }
 ],
 "metadata": {
  "kernelspec": {
   "display_name": "Python 3",
   "language": "python",
   "name": "python3"
  },
  "language_info": {
   "codemirror_mode": {
    "name": "ipython",
    "version": 3
   },
   "file_extension": ".py",
   "mimetype": "text/x-python",
   "name": "python",
   "nbconvert_exporter": "python",
   "pygments_lexer": "ipython3",
   "version": "3.11.0"
  }
 },
 "nbformat": 4,
 "nbformat_minor": 2
}
