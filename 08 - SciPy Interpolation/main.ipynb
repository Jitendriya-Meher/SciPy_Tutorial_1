{
 "cells": [
  {
   "cell_type": "markdown",
   "metadata": {},
   "source": [
    "What is interpolation: it is a method for generating points between the given points. and the method of filling the values is called imputation."
   ]
  },
  {
   "cell_type": "markdown",
   "metadata": {},
   "source": [
    "now how we can implement it in scipy.? -  via module scipy.interpolate\n",
    "\n",
    "1D interpolation: interp1d()\n",
    "\n",
    "here for given xs and ys interpolate values from 2.1, 2.2, 2.3........2.9:"
   ]
  },
  {
   "cell_type": "code",
   "execution_count": 15,
   "metadata": {},
   "outputs": [],
   "source": [
    "from scipy.interpolate import interp1d,UnivariateSpline,Rbf\n",
    "import numpy as np"
   ]
  },
  {
   "cell_type": "code",
   "execution_count": 16,
   "metadata": {},
   "outputs": [
    {
     "name": "stdout",
     "output_type": "stream",
     "text": [
      "<scipy.interpolate._interpolate.interp1d object at 0x00000287F097DAE0>\n"
     ]
    },
    {
     "data": {
      "text/plain": [
       "array([5.2, 5.4, 5.6, 5.8, 6. , 6.2, 6.4, 6.6, 6.8])"
      ]
     },
     "execution_count": 16,
     "metadata": {},
     "output_type": "execute_result"
    }
   ],
   "source": [
    "xs = np.arange(10)\n",
    "ys = xs*2 + 1\n",
    "\n",
    "interp_fun = interp1d( xs, ys)\n",
    "print(interp_fun)\n",
    "\n",
    "arr = interp_fun( np.arange(2.1,3,0.1))\n",
    "arr"
   ]
  },
  {
   "cell_type": "markdown",
   "metadata": {},
   "source": [
    "spline interpolation:\n",
    "\n",
    "example: here now we will find the univariate spline interpolation for 2.1, 2.2, 2.3.....2.9 .\n"
   ]
  },
  {
   "cell_type": "code",
   "execution_count": 17,
   "metadata": {},
   "outputs": [
    {
     "data": {
      "text/plain": [
       "array([5.62826474, 6.03987348, 6.47131994, 6.92265019, 7.3939103 ,\n",
       "       7.88514634, 8.39640439, 8.92773053, 9.47917082])"
      ]
     },
     "execution_count": 17,
     "metadata": {},
     "output_type": "execute_result"
    }
   ],
   "source": [
    "xs = np.arange(10)\n",
    "ys = xs**2 + np.sin(xs) + 1\n",
    "\n",
    "interp_func = UnivariateSpline(xs,ys)\n",
    "\n",
    "arr = interp_func(np.arange(2.1, 3, 0.1))\n",
    "arr"
   ]
  },
  {
   "cell_type": "markdown",
   "metadata": {},
   "source": [
    "Interpolation with Radial basis Function(RBF)"
   ]
  },
  {
   "cell_type": "code",
   "execution_count": 18,
   "metadata": {},
   "outputs": [
    {
     "data": {
      "text/plain": [
       "array([6.25748981, 6.62190817, 7.00310702, 7.40121814, 7.8161443 ,\n",
       "       8.24773402, 8.69590519, 9.16070828, 9.64233874])"
      ]
     },
     "execution_count": 18,
     "metadata": {},
     "output_type": "execute_result"
    }
   ],
   "source": [
    "xs = np.arange(10)\n",
    "ys = xs**2 + np.sin(xs) + 1\n",
    "\n",
    "interp_func = Rbf(xs,ys)\n",
    "\n",
    "arr = interp_func(np.arange(2.1, 3, 0.1))\n",
    "arr "
   ]
  }
 ],
 "metadata": {
  "kernelspec": {
   "display_name": "Python 3",
   "language": "python",
   "name": "python3"
  },
  "language_info": {
   "codemirror_mode": {
    "name": "ipython",
    "version": 3
   },
   "file_extension": ".py",
   "mimetype": "text/x-python",
   "name": "python",
   "nbconvert_exporter": "python",
   "pygments_lexer": "ipython3",
   "version": "3.11.0"
  }
 },
 "nbformat": 4,
 "nbformat_minor": 2
}
