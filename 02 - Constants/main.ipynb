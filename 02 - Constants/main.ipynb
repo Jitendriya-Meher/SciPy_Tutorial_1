{
 "cells": [
  {
   "cell_type": "markdown",
   "metadata": {},
   "source": [
    "Constants in scipy: scipy is more focused on scientific impelementions, it provides many built in scientific constants: helpful in data science."
   ]
  },
  {
   "cell_type": "code",
   "execution_count": 1,
   "metadata": {},
   "outputs": [],
   "source": [
    "from scipy import constants"
   ]
  },
  {
   "cell_type": "markdown",
   "metadata": {},
   "source": [
    "printing the constant value of PI:"
   ]
  },
  {
   "cell_type": "code",
   "execution_count": 2,
   "metadata": {},
   "outputs": [
    {
     "data": {
      "text/plain": [
       "3.141592653589793"
      ]
     },
     "execution_count": 2,
     "metadata": {},
     "output_type": "execute_result"
    }
   ],
   "source": [
    "constants.pi"
   ]
  },
  {
   "cell_type": "markdown",
   "metadata": {},
   "source": [
    "Constants unit:  all list of unit under the constant can be seen with dir() function."
   ]
  },
  {
   "cell_type": "code",
   "execution_count": 3,
   "metadata": {},
   "outputs": [
    {
     "data": {
      "text/plain": [
       "['Avogadro',\n",
       " 'Boltzmann',\n",
       " 'Btu',\n",
       " 'Btu_IT',\n",
       " 'Btu_th',\n",
       " 'ConstantWarning',\n",
       " 'G',\n",
       " 'Julian_year',\n",
       " 'N_A',\n",
       " 'Planck',\n",
       " 'R',\n",
       " 'Rydberg',\n",
       " 'Stefan_Boltzmann',\n",
       " 'Wien',\n",
       " '__all__',\n",
       " '__builtins__',\n",
       " '__cached__',\n",
       " '__doc__',\n",
       " '__file__',\n",
       " '__loader__',\n",
       " '__name__',\n",
       " '__package__',\n",
       " '__path__',\n",
       " '__spec__',\n",
       " '_codata',\n",
       " '_constants',\n",
       " '_obsolete_constants',\n",
       " 'acre',\n",
       " 'alpha',\n",
       " 'angstrom',\n",
       " 'arcmin',\n",
       " 'arcminute',\n",
       " 'arcsec',\n",
       " 'arcsecond',\n",
       " 'astronomical_unit',\n",
       " 'atm',\n",
       " 'atmosphere',\n",
       " 'atomic_mass',\n",
       " 'atto',\n",
       " 'au',\n",
       " 'bar',\n",
       " 'barrel',\n",
       " 'bbl',\n",
       " 'blob',\n",
       " 'c',\n",
       " 'calorie',\n",
       " 'calorie_IT',\n",
       " 'calorie_th',\n",
       " 'carat',\n",
       " 'centi',\n",
       " 'codata',\n",
       " 'constants',\n",
       " 'convert_temperature',\n",
       " 'day',\n",
       " 'deci',\n",
       " 'degree',\n",
       " 'degree_Fahrenheit',\n",
       " 'deka',\n",
       " 'dyn',\n",
       " 'dyne',\n",
       " 'e',\n",
       " 'eV',\n",
       " 'electron_mass',\n",
       " 'electron_volt',\n",
       " 'elementary_charge',\n",
       " 'epsilon_0',\n",
       " 'erg',\n",
       " 'exa',\n",
       " 'exbi',\n",
       " 'femto',\n",
       " 'fermi',\n",
       " 'find',\n",
       " 'fine_structure',\n",
       " 'fluid_ounce',\n",
       " 'fluid_ounce_US',\n",
       " 'fluid_ounce_imp',\n",
       " 'foot',\n",
       " 'g',\n",
       " 'gallon',\n",
       " 'gallon_US',\n",
       " 'gallon_imp',\n",
       " 'gas_constant',\n",
       " 'gibi',\n",
       " 'giga',\n",
       " 'golden',\n",
       " 'golden_ratio',\n",
       " 'grain',\n",
       " 'gram',\n",
       " 'gravitational_constant',\n",
       " 'h',\n",
       " 'hbar',\n",
       " 'hectare',\n",
       " 'hecto',\n",
       " 'horsepower',\n",
       " 'hour',\n",
       " 'hp',\n",
       " 'inch',\n",
       " 'k',\n",
       " 'kgf',\n",
       " 'kibi',\n",
       " 'kilo',\n",
       " 'kilogram_force',\n",
       " 'kmh',\n",
       " 'knot',\n",
       " 'lambda2nu',\n",
       " 'lb',\n",
       " 'lbf',\n",
       " 'light_year',\n",
       " 'liter',\n",
       " 'litre',\n",
       " 'long_ton',\n",
       " 'm_e',\n",
       " 'm_n',\n",
       " 'm_p',\n",
       " 'm_u',\n",
       " 'mach',\n",
       " 'mebi',\n",
       " 'mega',\n",
       " 'metric_ton',\n",
       " 'micro',\n",
       " 'micron',\n",
       " 'mil',\n",
       " 'mile',\n",
       " 'milli',\n",
       " 'minute',\n",
       " 'mmHg',\n",
       " 'mph',\n",
       " 'mu_0',\n",
       " 'nano',\n",
       " 'nautical_mile',\n",
       " 'neutron_mass',\n",
       " 'nu2lambda',\n",
       " 'ounce',\n",
       " 'oz',\n",
       " 'parsec',\n",
       " 'pebi',\n",
       " 'peta',\n",
       " 'physical_constants',\n",
       " 'pi',\n",
       " 'pico',\n",
       " 'point',\n",
       " 'pound',\n",
       " 'pound_force',\n",
       " 'precision',\n",
       " 'proton_mass',\n",
       " 'psi',\n",
       " 'pt',\n",
       " 'quecto',\n",
       " 'quetta',\n",
       " 'ronna',\n",
       " 'ronto',\n",
       " 'short_ton',\n",
       " 'sigma',\n",
       " 'slinch',\n",
       " 'slug',\n",
       " 'speed_of_light',\n",
       " 'speed_of_sound',\n",
       " 'stone',\n",
       " 'survey_foot',\n",
       " 'survey_mile',\n",
       " 'tebi',\n",
       " 'tera',\n",
       " 'test',\n",
       " 'ton_TNT',\n",
       " 'torr',\n",
       " 'troy_ounce',\n",
       " 'troy_pound',\n",
       " 'u',\n",
       " 'unit',\n",
       " 'value',\n",
       " 'week',\n",
       " 'yard',\n",
       " 'year',\n",
       " 'yobi',\n",
       " 'yocto',\n",
       " 'yotta',\n",
       " 'zebi',\n",
       " 'zepto',\n",
       " 'zero_Celsius',\n",
       " 'zetta']"
      ]
     },
     "execution_count": 3,
     "metadata": {},
     "output_type": "execute_result"
    }
   ],
   "source": [
    "dir(constants)"
   ]
  },
  {
   "cell_type": "markdown",
   "metadata": {},
   "source": [
    "Unit Categories: Metric, Binary, Mass, Angle, Time, Length, Pressure, Volume, Speed, Temprature, Energy, Power, Force."
   ]
  },
  {
   "cell_type": "markdown",
   "metadata": {},
   "source": [
    " Metric (SI) Prefixes: "
   ]
  },
  {
   "cell_type": "code",
   "execution_count": 8,
   "metadata": {},
   "outputs": [
    {
     "name": "stdout",
     "output_type": "stream",
     "text": [
      "1e+24\n",
      "1e+21\n",
      "1e+18\n",
      "1000000000000000.0\n",
      "1000000000000.0\n",
      "1000000000.0\n",
      "1000000.0\n",
      "1000.0\n",
      "100.0\n",
      "10.0\n",
      "0.1\n",
      "0.01\n",
      "0.001\n",
      "1e-06\n",
      "1e-09\n",
      "1e-12\n",
      "1e-15\n",
      "1e-18\n",
      "1e-21\n"
     ]
    }
   ],
   "source": [
    "print(constants.yotta) # 1e+24\n",
    "print(constants.zetta) # 1e+21\n",
    "print(constants.exa) # 1e+18\n",
    "print(constants.peta) # 1000000000000000.0\n",
    "print(constants.tera) # 10000000000000.0\n",
    "print(constants.giga) # 1000000000.0\n",
    "print(constants.mega) # 1000000.0\n",
    "print(constants.kilo) # 1000.0\n",
    "print(constants.hecto) # 100.0\n",
    "print(constants.deka) # 10.0\n",
    "print(constants.deci) # 0.1\n",
    "print(constants.centi) # 0.01\n",
    "print(constants.milli) # 0.001\n",
    "print(constants.micro) # 1e-06\n",
    "print(constants.nano) # 1e-09\n",
    "print(constants.pico) # 1e-12\n",
    "print(constants.femto) # 1e-15\n",
    "print(constants.atto) # 1e-18\n",
    "print(constants.zepto) # 1e-21"
   ]
  },
  {
   "cell_type": "markdown",
   "metadata": {},
   "source": [
    "Binary Prefixes:"
   ]
  },
  {
   "cell_type": "code",
   "execution_count": 9,
   "metadata": {},
   "outputs": [
    {
     "name": "stdout",
     "output_type": "stream",
     "text": [
      "1024\n",
      "1048576\n",
      "1073741824\n",
      "1099511627776\n",
      "1125899906842624\n",
      "1152921504606846976\n",
      "1180591620717411303424\n",
      "1208925819614629174706176\n"
     ]
    }
   ],
   "source": [
    "print(constants.kibi) # 1024\n",
    "print(constants.mebi) # \n",
    "print(constants.gibi)\n",
    "print(constants.tebi)\n",
    "print(constants.pebi)\n",
    "print(constants.exbi)\n",
    "print(constants.zebi)\n",
    "print(constants.yobi)"
   ]
  },
  {
   "cell_type": "markdown",
   "metadata": {},
   "source": [
    "MASS: "
   ]
  },
  {
   "cell_type": "code",
   "execution_count": 10,
   "metadata": {},
   "outputs": [
    {
     "name": "stdout",
     "output_type": "stream",
     "text": [
      "0.001\n",
      "1000.0\n",
      "6.479891e-05\n",
      "0.45359236999999997\n",
      "0.45359236999999997\n",
      "0.028349523124999998\n",
      "0.028349523124999998\n",
      "6.3502931799999995\n",
      "1016.0469088\n",
      "907.1847399999999\n",
      "0.031103476799999998\n",
      "0.37324172159999996\n",
      "0.0002\n",
      "1.6605390666e-27\n",
      "1.6605390666e-27\n",
      "1.6605390666e-27\n"
     ]
    }
   ],
   "source": [
    "print(constants.gram) # 0.001\n",
    "print(constants.metric_ton) # 1000.0\n",
    "print(constants.grain)\n",
    "print(constants.lb)\n",
    "print(constants.pound)\n",
    "print(constants.oz)\n",
    "print(constants.ounce)\n",
    "print(constants.stone)\n",
    "print(constants.long_ton)\n",
    "print(constants.short_ton)\n",
    "print(constants.troy_ounce)\n",
    "print(constants.troy_pound)\n",
    "print(constants.carat)\n",
    "print(constants.atomic_mass)\n",
    "print(constants.m_u)\n",
    "print(constants.u)"
   ]
  },
  {
   "cell_type": "markdown",
   "metadata": {},
   "source": [
    "Angle:\n"
   ]
  },
  {
   "cell_type": "code",
   "execution_count": 14,
   "metadata": {},
   "outputs": [
    {
     "name": "stdout",
     "output_type": "stream",
     "text": [
      "0.017453292519943295\n",
      "0.0002908882086657216\n",
      "0.0002908882086657216\n",
      "4.84813681109536e-06\n"
     ]
    }
   ],
   "source": [
    "print(constants.degree) # 0.0174\n",
    "print(constants.arcmin)\n",
    "print(constants.arcminute) # 0.0002\n",
    "print(constants.arcsec)"
   ]
  },
  {
   "cell_type": "markdown",
   "metadata": {},
   "source": [
    "Time:"
   ]
  },
  {
   "cell_type": "code",
   "execution_count": 15,
   "metadata": {},
   "outputs": [
    {
     "name": "stdout",
     "output_type": "stream",
     "text": [
      "60.0\n",
      "3600.0\n",
      "86400.0\n",
      "604800.0\n",
      "31536000.0\n",
      "31557600.0\n"
     ]
    }
   ],
   "source": [
    "print(constants.minute) # 60.0\n",
    "print(constants.hour) # 3600\n",
    "print(constants.day) \n",
    "print(constants.week)\n",
    "print(constants.year)\n",
    "print(constants.Julian_year)"
   ]
  },
  {
   "cell_type": "markdown",
   "metadata": {},
   "source": [
    "length"
   ]
  },
  {
   "cell_type": "code",
   "execution_count": 16,
   "metadata": {},
   "outputs": [
    {
     "name": "stdout",
     "output_type": "stream",
     "text": [
      "0.0254\n",
      "0.30479999999999996\n",
      "0.9143999999999999\n",
      "1609.3439999999998\n",
      "2.5399999999999997e-05\n",
      "0.00035277777777777776\n",
      "0.00035277777777777776\n",
      "0.3048006096012192\n",
      "1609.3472186944373\n",
      "1852.0\n",
      "1e-15\n",
      "1e-10\n",
      "1e-06\n",
      "149597870700.0\n",
      "149597870700.0\n",
      "9460730472580800.0\n",
      "3.085677581491367e+16\n"
     ]
    }
   ],
   "source": [
    "print(constants.inch) # 0.0254\n",
    "print(constants.foot)\n",
    "print(constants.yard)\n",
    "print(constants.mile)\n",
    "print(constants.mil)\n",
    "print(constants.pt)\n",
    "print(constants.point)\n",
    "print(constants.survey_foot)\n",
    "print(constants.survey_mile)\n",
    "print(constants.nautical_mile)\n",
    "print(constants.fermi)\n",
    "print(constants.angstrom)\n",
    "print(constants.micron)\n",
    "print(constants.au)\n",
    "print(constants.astronomical_unit)\n",
    "print(constants.light_year)\n",
    "print(constants.parsec)"
   ]
  },
  {
   "cell_type": "markdown",
   "metadata": {},
   "source": [
    "Pressure: pascals"
   ]
  },
  {
   "cell_type": "code",
   "execution_count": 17,
   "metadata": {},
   "outputs": [
    {
     "name": "stdout",
     "output_type": "stream",
     "text": [
      "101325.0\n",
      "101325.0\n",
      "100000.0\n",
      "133.32236842105263\n",
      "133.32236842105263\n",
      "6894.757293168361\n"
     ]
    }
   ],
   "source": [
    "print(constants.atm)\n",
    "print(constants.atmosphere)\n",
    "print(constants.bar)\n",
    "print(constants.torr)\n",
    "print(constants.mmHg) \n",
    "print(constants.psi)"
   ]
  },
  {
   "cell_type": "markdown",
   "metadata": {},
   "source": [
    "Volume: cubic meter"
   ]
  },
  {
   "cell_type": "code",
   "execution_count": 18,
   "metadata": {},
   "outputs": [
    {
     "name": "stdout",
     "output_type": "stream",
     "text": [
      "0.001\n",
      "0.001\n",
      "0.0037854117839999997\n",
      "0.0037854117839999997\n",
      "0.00454609\n",
      "2.9573529562499998e-05\n",
      "2.9573529562499998e-05\n",
      "2.84130625e-05\n",
      "0.15898729492799998\n",
      "0.15898729492799998\n"
     ]
    }
   ],
   "source": [
    "print(constants.liter) # 0.001\n",
    "print(constants.litre) # 0.001\n",
    "print(constants.gallon)\n",
    "print(constants.gallon_US)\n",
    "print(constants.gallon_imp)\n",
    "print(constants.fluid_ounce)\n",
    "print(constants.fluid_ounce_US)\n",
    "print(constants.fluid_ounce_imp)\n",
    "print(constants.barrel)\n",
    "print(constants.bbl)"
   ]
  },
  {
   "cell_type": "markdown",
   "metadata": {},
   "source": [
    "speed: meter per sec"
   ]
  },
  {
   "cell_type": "code",
   "execution_count": 19,
   "metadata": {},
   "outputs": [
    {
     "name": "stdout",
     "output_type": "stream",
     "text": [
      "0.2777777777777778\n",
      "0.44703999999999994\n",
      "340.5\n",
      "340.5\n",
      "0.5144444444444445\n"
     ]
    }
   ],
   "source": [
    "print(constants.kmh) # 0.27777777\n",
    "print(constants.mph)\n",
    "print(constants.mach) # 340.5\n",
    "print(constants.speed_of_sound) # 340.5\n",
    "print(constants.knot)"
   ]
  },
  {
   "cell_type": "markdown",
   "metadata": {},
   "source": [
    "Temprature: kelvin"
   ]
  },
  {
   "cell_type": "code",
   "execution_count": 20,
   "metadata": {},
   "outputs": [
    {
     "name": "stdout",
     "output_type": "stream",
     "text": [
      "273.15\n",
      "0.5555555555555556\n"
     ]
    }
   ],
   "source": [
    "print(constants.zero_Celsius)\n",
    "print(constants.degree_Fahrenheit)\n"
   ]
  },
  {
   "cell_type": "markdown",
   "metadata": {},
   "source": [
    "Energy: joules"
   ]
  },
  {
   "cell_type": "code",
   "execution_count": 21,
   "metadata": {},
   "outputs": [
    {
     "name": "stdout",
     "output_type": "stream",
     "text": [
      "1.602176634e-19\n",
      "1.602176634e-19\n",
      "4.184\n",
      "4.184\n",
      "4.1868\n",
      "1e-07\n",
      "1055.05585262\n",
      "1055.05585262\n",
      "1054.3502644888888\n",
      "4184000000.0\n"
     ]
    }
   ],
   "source": [
    "print(constants.eV)\n",
    "print(constants.electron_volt)\n",
    "print(constants.calorie) # 4.184\n",
    "print(constants.calorie_th) # 4.184\n",
    "print(constants.calorie_IT)\n",
    "print(constants.erg) # 07\n",
    "print(constants.Btu)\n",
    "print(constants.Btu_IT)\n",
    "print(constants.Btu_th)\n",
    "print(constants.ton_TNT)"
   ]
  },
  {
   "cell_type": "markdown",
   "metadata": {},
   "source": [
    "Power : newton"
   ]
  },
  {
   "cell_type": "code",
   "execution_count": 22,
   "metadata": {},
   "outputs": [
    {
     "name": "stdout",
     "output_type": "stream",
     "text": [
      "1e-05\n",
      "1e-05\n",
      "4.4482216152605\n",
      "4.4482216152605\n",
      "9.80665\n",
      "9.80665\n"
     ]
    }
   ],
   "source": [
    "print(constants.dyn)\n",
    "print(constants.dyne)\n",
    "print(constants.lbf)\n",
    "print(constants.pound_force)\n",
    "print(constants.kgf)\n",
    "print(constants.kilogram_force)"
   ]
  }
 ],
 "metadata": {
  "kernelspec": {
   "display_name": "Python 3",
   "language": "python",
   "name": "python3"
  },
  "language_info": {
   "codemirror_mode": {
    "name": "ipython",
    "version": 3
   },
   "file_extension": ".py",
   "mimetype": "text/x-python",
   "name": "python",
   "nbconvert_exporter": "python",
   "pygments_lexer": "ipython3",
   "version": "3.11.0"
  }
 },
 "nbformat": 4,
 "nbformat_minor": 2
}
